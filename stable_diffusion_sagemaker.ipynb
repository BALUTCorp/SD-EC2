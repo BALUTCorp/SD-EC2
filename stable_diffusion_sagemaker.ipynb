{
 "cells": [
  {
   "cell_type": "markdown",
   "metadata": {},
   "source": [
    "# Stable Diffusion WebUI on SageMaker\n",
    "\n",
    "This notebook helps you manage and interact with Stable Diffusion WebUI on SageMaker."
   ]
  },
  {
   "cell_type": "markdown",
   "metadata": {},
   "source": [
    "## 1. Environment Setup"
   ]
  },
  {
   "cell_type": "code",
   "execution_count": null,
   "metadata": {},
   "outputs": [],
   "source": [
    "import subprocess\n",
    "import os\n",
    "import time\n",
    "import requests\n",
    "import json\n",
    "from IPython.display import display, HTML\n",
    "import threading"
   ]
  },
  {
   "cell_type": "markdown",
   "metadata": {},
   "source": [
    "## 2. Check GPU and System Status"
   ]
  },
  {
   "cell_type": "code",
   "execution_count": null,
   "metadata": {},
   "outputs": [],
   "source": [
    "# Check GPU status\n",
    "!nvidia-smi"
   ]
  },
  {
   "cell_type": "code",
   "execution_count": null,
   "metadata": {},
   "outputs": [],
   "source": [
    "# Check disk space\n",
    "!df -h /home/ec2-user/SageMaker"
   ]
  },
  {
   "cell_type": "code",
   "execution_count": null,
   "metadata": {},
   "outputs": [],
   "source": [
    "# Check Python packages\n",
    "!pip list | grep -E \"torch|xformers|diffusers\""
   ]
  },
  {
   "cell_type": "markdown",
   "metadata": {},
   "source": [
    "## 3. Install/Update Stable Diffusion WebUI"
   ]
  },
  {
   "cell_type": "code",
   "execution_count": null,
   "metadata": {},
   "outputs": [],
   "source": [
    "# Install or update WebUI\n",
    "webui_path = \"/home/ec2-user/SageMaker/stable-diffusion-webui\"\n",
    "\n",
    "if not os.path.exists(webui_path):\n",
    "    print(\"Installing Stable Diffusion WebUI...\")\n",
    "    !cd /home/ec2-user/SageMaker && git clone https://github.com/AUTOMATIC1111/stable-diffusion-webui.git\n",
    "else:\n",
    "    print(\"Updating Stable Diffusion WebUI...\")\n",
    "    !cd {webui_path} && git pull"
   ]
  },
  {
   "cell_type": "code",
   "execution_count": null,
   "metadata": {},
   "outputs": [],
   "source": [
    "# Install requirements\n",
    "!cd {webui_path} && pip install -r requirements.txt"
   ]
  },
  {
   "cell_type": "markdown",
   "metadata": {},
   "source": [
    "## 4. Download Models"
   ]
  },
  {
   "cell_type": "code",
   "execution_count": null,
   "metadata": {},
   "outputs": [],
   "source": [
    "# Create models directory\n",
    "models_dir = f\"{webui_path}/models/Stable-diffusion\"\n",
    "controlnet_dir = f\"{webui_path}/models/ControlNet\"\n",
    "\n",
    "os.makedirs(models_dir, exist_ok=True)\n",
    "os.makedirs(controlnet_dir, exist_ok=True)\n",
    "\n",
    "print(f\"Models directory: {models_dir}\")\n",
    "print(f\"ControlNet directory: {controlnet_dir}\")"
   ]
  },
  {
   "cell_type": "code",
   "execution_count": null,
   "metadata": {},
   "outputs": [],
   "source": [
    "# Download EpicRealism model (if not exists)\n",
    "epic_realism_path = f\"{models_dir}/sd1_5-epiCRealism.safetensors\"\n",
    "\n",
    "if not os.path.exists(epic_realism_path):\n",
    "    print(\"Downloading EpicRealism model...\")\n",
    "    !cd {models_dir} && wget -O sd1_5-epiCRealism.safetensors \"https://huggingface.co/emilianJR/epiCRealism/resolve/main/epicrealism_naturalSinRC1VAE.safetensors\"\n",
    "else:\n",
    "    print(\"EpicRealism model already exists\")"
   ]
  },
  {
   "cell_type": "code",
   "execution_count": null,
   "metadata": {},
   "outputs": [],
   "source": [
    "# Download ControlNet models\n",
    "controlnet_models = {\n",
    "    \"control_v11p_sd15_inpaint.pth\": \"https://huggingface.co/lllyasviel/ControlNet-v1-1/resolve/main/control_v11p_sd15_inpaint.pth\",\n",
    "    \"control_v11p_sd15_canny.pth\": \"https://huggingface.co/lllyasviel/ControlNet-v1-1/resolve/main/control_v11p_sd15_canny.pth\"\n",
    "}\n",
    "\n",
    "for model_name, url in controlnet_models.items():\n",
    "    model_path = f\"{controlnet_dir}/{model_name}\"\n",
    "    if not os.path.exists(model_path):\n",
    "        print(f\"Downloading {model_name}...\")\n",
    "        !cd {controlnet_dir} && wget -O {model_name} \"{url}\"\n",
    "    else:\n",
    "        print(f\"{model_name} already exists\")"
   ]
  },
  {
   "cell_type": "markdown",
   "metadata": {},
   "source": [
    "## 5. Start WebUI Server"
   ]
  },
  {
   "cell_type": "code",
   "execution_count": null,
   "metadata": {},
   "outputs": [],
   "source": [
    "class WebUIManager:\n",
    "    def __init__(self, webui_path):\n",
    "        self.webui_path = webui_path\n",
    "        self.process = None\n",
    "        self.port = 8888\n",
    "        \n",
    "    def start(self):\n",
    "        if self.is_running():\n",
    "            print(\"WebUI is already running!\")\n",
    "            return\n",
    "            \n",
    "        print(\"Starting Stable Diffusion WebUI...\")\n",
    "        \n",
    "        # Set environment variables\n",
    "        env = os.environ.copy()\n",
    "        env['COMMANDLINE_ARGS'] = f'--listen --port {self.port} --enable-insecure-extension-access --xformers --no-half-vae'\n",
    "        \n",
    "        # Start WebUI in background\n",
    "        os.chdir(self.webui_path)\n",
    "        self.process = subprocess.Popen(\n",
    "            ['python', 'launch.py'],\n",
    "            env=env,\n",
    "            stdout=subprocess.PIPE,\n",
    "            stderr=subprocess.PIPE\n",
    "        )\n",
    "        \n",
    "        print(f\"WebUI starting... Process ID: {self.process.pid}\")\n",
    "        print(\"Please wait 2-3 minutes for initialization...\")\n",
    "        \n",
    "        # Wait for server to start\n",
    "        self.wait_for_server()\n",
    "        \n",
    "    def wait_for_server(self, timeout=300):\n",
    "        \"\"\"Wait for WebUI server to be ready\"\"\"\n",
    "        start_time = time.time()\n",
    "        \n",
    "        while time.time() - start_time < timeout:\n",
    "            try:\n",
    "                response = requests.get(f'http://localhost:{self.port}', timeout=5)\n",
    "                if response.status_code == 200:\n",
    "                    print(\"✅ WebUI is ready!\")\n",
    "                    self.display_access_info()\n",
    "                    return True\n",
    "            except:\n",
    "                pass\n",
    "                \n",
    "            time.sleep(10)\n",
    "            print(\"⏳ Still starting...\")\n",
    "            \n",
    "        print(\"❌ Timeout waiting for WebUI to start\")\n",
    "        return False\n",
    "        \n",
    "    def is_running(self):\n",
    "        \"\"\"Check if WebUI is running\"\"\"\n",
    "        try:\n",
    "            response = requests.get(f'http://localhost:{self.port}', timeout=5)\n",
    "            return response.status_code == 200\n",
    "        except:\n",
    "            return False\n",
    "            \n",
    "    def stop(self):\n",
    "        \"\"\"Stop WebUI server\"\"\"\n",
    "        if self.process:\n",
    "            self.process.terminate()\n",
    "            self.process.wait()\n",
    "            print(\"WebUI stopped\")\n",
    "        else:\n",
    "            print(\"WebUI is not running\")\n",
    "            \n",
    "    def display_access_info(self):\n",
    "        \"\"\"Display access information\"\"\"\n",
    "        # Get notebook instance name from metadata\n",
    "        try:\n",
    "            import boto3\n",
    "            session = boto3.Session()\n",
    "            region = session.region_name\n",
    "            \n",
    "            # Try to get instance name from environment or metadata\n",
    "            instance_name = os.environ.get('SM_CURRENT_INSTANCE_NAME', 'your-notebook-instance')\n",
    "            \n",
    "            proxy_url = f\"https://{instance_name}.notebook.{region}.sagemaker.aws/proxy/{self.port}/\"\n",
    "            \n",
    "            display(HTML(f\"\"\"\n",
    "            <div style=\"border: 2px solid #4CAF50; padding: 20px; border-radius: 10px; background-color: #f9f9f9;\">\n",
    "                <h3 style=\"color: #4CAF50;\">🎉 Stable Diffusion WebUI is Ready!</h3>\n",
    "                <p><strong>Access URL:</strong></p>\n",
    "                <p><a href=\"{proxy_url}\" target=\"_blank\" style=\"font-size: 16px; color: #2196F3;\">{proxy_url}</a></p>\n",
    "                <p><em>Click the link above to open WebUI in a new tab</em></p>\n",
    "            </div>\n",
    "            \"\"\"))\n",
    "            \n",
    "        except Exception as e:\n",
    "            print(f\"WebUI is running on port {self.port}\")\n",
    "            print(f\"Access via SageMaker proxy URL\")\n",
    "\n",
    "# Create WebUI manager\n",
    "webui_manager = WebUIManager(webui_path)"
   ]
  },
  {
   "cell_type": "code",
   "execution_count": null,
   "metadata": {},
   "outputs": [],
   "source": [
    "# Start WebUI\n",
    "webui_manager.start()"
   ]
  },
  {
   "cell_type": "markdown",
   "metadata": {},
   "source": [
    "## 6. WebUI Status and Control"
   ]
  },
  {
   "cell_type": "code",
   "execution_count": null,
   "metadata": {},
   "outputs": [],
   "source": [
    "# Check WebUI status\n",
    "if webui_manager.is_running():\n",
    "    print(\"✅ WebUI is running\")\n",
    "    webui_manager.display_access_info()\n",
    "else:\n",
    "    print(\"❌ WebUI is not running\")"
   ]
  },
  {
   "cell_type": "code",
   "execution_count": null,
   "metadata": {},
   "outputs": [],
   "source": [
    "# Stop WebUI (if needed)\n",
    "# webui_manager.stop()"
   ]
  },
  {
   "cell_type": "markdown",
   "metadata": {},
   "source": [
    "## 7. API Usage Examples"
   ]
  },
  {
   "cell_type": "code",
   "execution_count": null,
   "metadata": {},
   "outputs": [],
   "source": [
    "# Example: Generate image via API\n",
    "def generate_image_api(prompt, negative_prompt=\"\", steps=20, cfg_scale=7):\n",
    "    \"\"\"Generate image using WebUI API\"\"\"\n",
    "    \n",
    "    if not webui_manager.is_running():\n",
    "        print(\"WebUI is not running. Please start it first.\")\n",
    "        return None\n",
    "        \n",
    "    url = f\"http://localhost:{webui_manager.port}/sdapi/v1/txt2img\"\n",
    "    \n",
    "    payload = {\n",
    "        \"prompt\": prompt,\n",
    "        \"negative_prompt\": negative_prompt,\n",
    "        \"steps\": steps,\n",
    "        \"cfg_scale\": cfg_scale,\n",
    "        \"width\": 512,\n",
    "        \"height\": 512,\n",
    "        \"sampler_name\": \"DPM++ 2M Karras\"\n",
    "    }\n",
    "    \n",
    "    try:\n",
    "        response = requests.post(url, json=payload, timeout=300)\n",
    "        if response.status_code == 200:\n",
    "            result = response.json()\n",
    "            return result['images'][0]  # Base64 encoded image\n",
    "        else:\n",
    "            print(f\"API Error: {response.status_code}\")\n",
    "            return None\n",
    "    except Exception as e:\n",
    "        print(f\"Error: {e}\")\n",
    "        return None\n",
    "\n",
    "# Example usage (uncomment to test)\n",
    "# image_b64 = generate_image_api(\"a beautiful landscape with mountains and lake, high quality\")\n",
    "# if image_b64:\n",
    "#     print(\"Image generated successfully!\")"
   ]
  },
  {
   "cell_type": "markdown",
   "metadata": {},
   "source": [
    "## 8. Utility Functions"
   ]
  },
  {
   "cell_type": "code",
   "execution_count": null,
   "metadata": {},
   "outputs": [],
   "source": [
    "# Backup models to S3\n",
    "def backup_to_s3(bucket_name=None):\n",
    "    \"\"\"Backup models and outputs to S3\"\"\"\n",
    "    \n",
    "    if not bucket_name:\n",
    "        # Try to get bucket name from CloudFormation\n",
    "        try:\n",
    "            import boto3\n",
    "            cf = boto3.client('cloudformation')\n",
    "            response = cf.describe_stacks(StackName='stable-diffusion-webui')\n",
    "            outputs = response['Stacks'][0]['Outputs']\n",
    "            bucket_name = next(o['OutputValue'] for o in outputs if o['OutputKey'] == 'S3BucketName')\n",
    "        except:\n",
    "            print(\"Could not find S3 bucket. Please specify bucket_name parameter.\")\n",
    "            return\n",
    "    \n",
    "    print(f\"Backing up to S3 bucket: {bucket_name}\")\n",
    "    \n",
    "    # Backup models\n",
    "    !aws s3 sync {webui_path}/models/ s3://{bucket_name}/models/ --exclude \"*.tmp\"\n",
    "    \n",
    "    # Backup outputs\n",
    "    !aws s3 sync {webui_path}/outputs/ s3://{bucket_name}/outputs/\n",
    "    \n",
    "    print(\"Backup completed!\")\n",
    "\n",
    "# Uncomment to backup\n",
    "# backup_to_s3()"
   ]
  },
  {
   "cell_type": "code",
   "execution_count": null,
   "metadata": {},
   "outputs": [],
   "source": [
    "# Clean up temporary files\n",
    "def cleanup_temp_files():\n",
    "    \"\"\"Clean up temporary files to free space\"\"\"\n",
    "    \n",
    "    print(\"Cleaning up temporary files...\")\n",
    "    \n",
    "    # Clear pip cache\n",
    "    !pip cache purge\n",
    "    \n",
    "    # Clear huggingface cache\n",
    "    !rm -rf ~/.cache/huggingface/\n",
    "    \n",
    "    # Clear temporary model files\n",
    "    !find {webui_path} -name \"*.tmp\" -delete\n",
    "    \n",
    "    print(\"Cleanup completed!\")\n",
    "    \n",
    "    # Show disk usage\n",
    "    !df -h /home/ec2-user/SageMaker\n",
    "\n",
    "# Uncomment to cleanup\n",
    "# cleanup_temp_files()"
   ]
  },
  {
   "cell_type": "markdown",
   "metadata": {},
   "source": [
    "## 9. Quick Start Guide\n",
    "\n",
    "### For Inpainting with ControlNet:\n",
    "\n",
    "1. **Access WebUI**: Click the link above to open WebUI\n",
    "2. **Select Model**: Choose `sd1_5-epiCRealism.safetensors`\n",
    "3. **Go to img2img → Inpaint tab**\n",
    "4. **Upload your image** and use brush to mask areas\n",
    "5. **Enable ControlNet**:\n",
    "   - Upload control image\n",
    "   - Select `control_v11p_sd15_inpaint` model\n",
    "   - Set control mode to \"ControlNet is more important\"\n",
    "6. **Generate** your inpainted image!\n",
    "\n",
    "### Tips:\n",
    "- Use descriptive prompts for better results\n",
    "- Adjust denoising strength (0.3-0.8 works well)\n",
    "- Try different sampling methods\n",
    "- Save your favorite settings as styles"
   ]
  }
 ],
 "metadata": {
  "kernelspec": {
   "display_name": "Python 3",
   "language": "python",
   "name": "python3"
  },
  "language_info": {
   "codemirror_mode": {
    "name": "ipython",
    "version": 3
   },
   "file_extension": ".py",
   "mimetype": "text/x-python",
   "name": "python",
   "nbconvert_exporter": "python",
   "pygments_lexer": "ipython3",
   "version": "3.8.5"
  }
 },
 "nbformat": 4,
 "nbformat_minor": 4
}
