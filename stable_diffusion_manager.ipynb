{
 "cells": [
  {
   "cell_type": "markdown",
   "metadata": {},
   "source": [
    "# Stable Diffusion WebUI Manager\n",
    "\n",
    "Notebook này giúp bạn quản lý và tương tác với Stable Diffusion WebUI trên SageMaker."
   ]
  },
  {
   "cell_type": "markdown",
   "metadata": {},
   "source": [
    "## 1. Kiểm tra cài đặt"
   ]
  },
  {
   "cell_type": "code",
   "execution_count": null,
   "metadata": {},
   "outputs": [],
   "source": [
    "# Kiểm tra GPU\n",
    "!nvidia-smi"
   ]
  },
  {
   "cell_type": "code",
   "execution_count": null,
   "metadata": {},
   "outputs": [],
   "source": [
    "# Kiểm tra cài đặt PyTorch\n",
    "!pip list | grep -E \"torch|xformers\""
   ]
  },
  {
   "cell_type": "code",
   "execution_count": null,
   "metadata": {},
   "outputs": [],
   "source": [
    "# Kiểm tra thư mục cài đặt\n",
    "!ls -la /home/ec2-user/SageMaker/stable-diffusion-webui"
   ]
  },
  {
   "cell_type": "markdown",
   "metadata": {},
   "source": [
    "## 2. Kiểm tra log cài đặt"
   ]
  },
  {
   "cell_type": "code",
   "execution_count": null,
   "metadata": {},
   "outputs": [],
   "source": [
    "# Xem log cài đặt\n",
    "!tail -n 50 /home/ec2-user/SageMaker/install.log"
   ]
  },
  {
   "cell_type": "markdown",
   "metadata": {},
   "source": [
    "## 3. Khởi động WebUI"
   ]
  },
  {
   "cell_type": "code",
   "execution_count": null,
   "metadata": {},
   "outputs": [],
   "source": [
    "import subprocess\n",
    "import os\n",
    "import time\n",
    "import socket\n",
    "from IPython.display import display, HTML\n",
    "\n",
    "def is_port_in_use(port):\n",
    "    \"\"\"Kiểm tra xem port có đang được sử dụng không\"\"\"\n",
    "    with socket.socket(socket.AF_INET, socket.SOCK_STREAM) as s:\n",
    "        return s.connect_ex(('localhost', port)) == 0\n",
    "\n",
    "def start_webui():\n",
    "    \"\"\"Khởi động Stable Diffusion WebUI\"\"\"\n",
    "    webui_dir = \"/home/ec2-user/SageMaker/stable-diffusion-webui\"\n",
    "    port = 8888\n",
    "    \n",
    "    # Kiểm tra xem WebUI đã chạy chưa\n",
    "    if is_port_in_use(port):\n",
    "        display(HTML(f'''\n",
    "        <div style=\"background-color: #d4edda; color: #155724; padding: 15px; border-radius: 5px; margin: 10px 0;\">\n",
    "            <h3 style=\"margin-top: 0;\">✅ WebUI đã đang chạy!</h3>\n",
    "            <p>Truy cập WebUI tại URL: <a href=\"/proxy/8888/\" target=\"_blank\">/proxy/8888/</a></p>\n",
    "        </div>\n",
    "        '''))\n",
    "        return\n",
    "    \n",
    "    # Kiểm tra xem script khởi động có tồn tại không\n",
    "    launch_script = f\"{webui_dir}/launch_webui.sh\"\n",
    "    if not os.path.exists(launch_script):\n",
    "        display(HTML(f'''\n",
    "        <div style=\"background-color: #f8d7da; color: #721c24; padding: 15px; border-radius: 5px; margin: 10px 0;\">\n",
    "            <h3 style=\"margin-top: 0;\">❌ Lỗi: Script khởi động không tồn tại!</h3>\n",
    "            <p>Vui lòng đợi quá trình cài đặt hoàn tất hoặc kiểm tra log cài đặt.</p>\n",
    "        </div>\n",
    "        '''))\n",
    "        return\n",
    "    \n",
    "    # Khởi động WebUI\n",
    "    display(HTML(f'''\n",
    "    <div style=\"background-color: #cce5ff; color: #004085; padding: 15px; border-radius: 5px; margin: 10px 0;\">\n",
    "        <h3 style=\"margin-top: 0;\">🚀 Đang khởi động WebUI...</h3>\n",
    "        <p>Quá trình này có thể mất 2-3 phút. Vui lòng đợi.</p>\n",
    "    </div>\n",
    "    '''))\n",
    "    \n",
    "    # Chạy script trong background\n",
    "    process = subprocess.Popen(\n",
    "        [\"bash\", launch_script],\n",
    "        stdout=subprocess.PIPE,\n",
    "        stderr=subprocess.PIPE,\n",
    "        cwd=webui_dir\n",
    "    )\n",
    "    \n",
    "    # Đợi WebUI khởi động\n",
    "    max_wait = 180  # 3 phút\n",
    "    start_time = time.time()\n",
    "    \n",
    "    while time.time() - start_time < max_wait:\n",
    "        if is_port_in_use(port):\n",
    "            display(HTML(f'''\n",
    "            <div style=\"background-color: #d4edda; color: #155724; padding: 15px; border-radius: 5px; margin: 10px 0;\">\n",
    "                <h3 style=\"margin-top: 0;\">✅ WebUI đã sẵn sàng!</h3>\n",
    "                <p>Truy cập WebUI tại URL: <a href=\"/proxy/8888/\" target=\"_blank\">/proxy/8888/</a></p>\n",
    "            </div>\n",
    "            '''))\n",
    "            return\n",
    "        time.sleep(5)\n",
    "    \n",
    "    # Nếu quá thời gian mà vẫn chưa khởi động được\n",
    "    display(HTML(f'''\n",
    "    <div style=\"background-color: #f8d7da; color: #721c24; padding: 15px; border-radius: 5px; margin: 10px 0;\">\n",
    "        <h3 style=\"margin-top: 0;\">⚠️ Khởi động quá thời gian</h3>\n",
    "        <p>WebUI có thể vẫn đang khởi động. Vui lòng đợi thêm hoặc kiểm tra log.</p>\n",
    "        <p>Thử truy cập: <a href=\"/proxy/8888/\" target=\"_blank\">/proxy/8888/</a></p>\n",
    "    </div>\n",
    "    '''))"
   ]
  },
  {
   "cell_type": "code",
   "execution_count": null,
   "metadata": {},
   "outputs": [],
   "source": [
    "# Khởi động WebUI\n",
    "start_webui()"
   ]
  },
  {
   "cell_type": "markdown",
   "metadata": {},
   "source": [
    "## 4. Hướng dẫn sử dụng Inpainting với ControlNet"
   ]
  },
  {
   "cell_type": "markdown",
   "metadata": {},
   "source": [
    "### Bước 1: Chọn model\n",
    "\n",
    "1. Trong giao diện WebUI, tìm dropdown model\n",
    "2. Chọn: `sd1_5-epiCRealism.safetensors`\n",
    "\n",
    "### Bước 2: Chuyển đến tab Inpaint\n",
    "\n",
    "1. Click vào tab \"img2img\"\n",
    "2. Chọn sub-tab \"Inpaint\"\n",
    "\n",
    "### Bước 3: Cấu hình prompt\n",
    "\n",
    "1. Trong trường prompt, viết mô tả cho hình ảnh đầu ra mong muốn\n",
    "2. Ví dụ: \"a beautiful landscape with mountains and lake, high quality, detailed\"\n",
    "\n",
    "### Bước 4: Upload và mask hình ảnh\n",
    "\n",
    "1. Click \"Upload\" để tải lên hình ảnh gốc\n",
    "2. Sử dụng công cụ brush để tô lên các vùng bạn muốn mở rộng/chỉnh sửa\n",
    "3. Tô dọc theo các cạnh nơi bạn muốn hình ảnh được mở rộng\n",
    "\n",
    "### Bước 5: Cấu hình Inpaint\n",
    "\n",
    "1. **Resize mode**: Chọn \"Resize and fill\"\n",
    "2. **Mask mode**: Chọn \"Inpaint masked\"\n",
    "3. **Denoising strength**: Điều chỉnh thanh trượt (giá trị cao = nhiều thay đổi, giá trị thấp = gần với bản gốc)\n",
    "\n",
    "### Bước 6: Bật ControlNet\n",
    "\n",
    "1. Cuộn xuống để tìm phần \"ControlNet\"\n",
    "2. Đánh dấu vào ô \"Enable\"\n",
    "\n",
    "### Bước 7: Cấu hình ControlNet\n",
    "\n",
    "1. **Upload control image**: Click \"Upload independent control image\"\n",
    "2. Tải lên cùng hình ảnh bạn đã sử dụng cho inpainting (hoặc một hình ảnh điều khiển khác)\n",
    "3. **Control type**: Chọn \"Inpaint\"\n",
    "4. **Model**: Chọn `Control_v11p_sd15_inpaint` từ dropdown\n",
    "5. **Control mode**: Chọn \"ControlNet is more important\"\n",
    "6. **Resize mode**: Chọn \"Resize and fill\"\n",
    "\n",
    "### Bước 8: Tạo hình ảnh\n",
    "\n",
    "1. Click nút \"Generate\"\n",
    "2. Đợi quá trình xử lý hoàn tất\n",
    "3. Xem kết quả trong panel output"
   ]
  },
  {
   "cell_type": "markdown",
   "metadata": {},
   "source": [
    "## 5. Quản lý tài nguyên"
   ]
  },
  {
   "cell_type": "code",
   "execution_count": null,
   "metadata": {},
   "outputs": [],
   "source": [
    "# Kiểm tra dung lượng đĩa\n",
    "!df -h /home/ec2-user/SageMaker"
   ]
  },
  {
   "cell_type": "code",
   "execution_count": null,
   "metadata": {},
   "outputs": [],
   "source": [
    "# Kiểm tra sử dụng GPU\n",
    "!nvidia-smi"
   ]
  },
  {
   "cell_type": "code",
   "execution_count": null,
   "metadata": {},
   "outputs": [],
   "source": [
    "# Dọn dẹp cache để tiết kiệm dung lượng\n",
    "def cleanup_cache():\n",
    "    !pip cache purge\n",
    "    !rm -rf ~/.cache/huggingface/\n",
    "    print(\"Đã dọn dẹp cache!\")\n",
    "    !df -h /home/ec2-user/SageMaker\n",
    "\n",
    "# Uncomment dòng dưới để dọn dẹp cache\n",
    "# cleanup_cache()"
   ]
  },
  {
   "cell_type": "markdown",
   "metadata": {},
   "source": [
    "## 6. Tải thêm model (nếu cần)"
   ]
  },
  {
   "cell_type": "code",
   "execution_count": null,
   "metadata": {},
   "outputs": [],
   "source": [
    "# Tải thêm model ControlNet\n",
    "def download_controlnet_model(model_name, url):\n",
    "    model_dir = \"/home/ec2-user/SageMaker/stable-diffusion-webui/models/ControlNet\"\n",
    "    model_path = f\"{model_dir}/{model_name}\"\n",
    "    \n",
    "    if os.path.exists(model_path):\n",
    "        print(f\"Model {model_name} đã tồn tại.\")\n",
    "        return\n",
    "    \n",
    "    print(f\"Đang tải {model_name}...\")\n",
    "    !wget -O {model_path} {url}\n",
    "    print(f\"Đã tải xong {model_name}!\")\n",
    "\n",
    "# Ví dụ: Tải model ControlNet Canny\n",
    "# download_controlnet_model(\n",
    "#     \"control_v11p_sd15_canny.pth\", \n",
    "#     \"https://huggingface.co/lllyasviel/ControlNet-v1-1/resolve/main/control_v11p_sd15_canny.pth\"\n",
    "# )"
   ]
  },
  {
   "cell_type": "markdown",
   "metadata": {},
   "source": [
    "## 7. Lưu ý quan trọng\n",
    "\n",
    "1. **Tiết kiệm chi phí**: Nhớ dừng SageMaker Notebook Instance khi không sử dụng để tránh phát sinh chi phí không cần thiết.\n",
    "\n",
    "2. **Lưu trữ models**: Các model được tải về sẽ bị mất khi instance bị xóa. Nếu cần, hãy sao lưu vào S3.\n",
    "\n",
    "3. **Khởi động lại WebUI**: Nếu WebUI gặp lỗi, bạn có thể khởi động lại bằng cách chạy lại cell \"Khởi động WebUI\" ở trên.\n",
    "\n",
    "4. **Tài nguyên GPU**: Nếu gặp lỗi CUDA out of memory, hãy thử thêm tham số `--medvram` hoặc `--lowvram` vào `COMMANDLINE_ARGS`."
   ]
  }
 ],
 "metadata": {
  "kernelspec": {
   "display_name": "Python 3",
   "language": "python",
   "name": "python3"
  },
  "language_info": {
   "codemirror_mode": {
    "name": "ipython",
    "version": 3
   },
   "file_extension": ".py",
   "mimetype": "text/x-python",
   "name": "python",
   "nbconvert_exporter": "python",
   "pygments_lexer": "ipython3",
   "version": "3.8.5"
  }
 },
 "nbformat": 4,
 "nbformat_minor": 4
}
